{
 "cells": [
  {
   "cell_type": "markdown",
   "id": "74cd1257-cdf0-435b-a496-aa7c21e7cad3",
   "metadata": {},
   "source": [
    "# Data Science Tools and Ecosystem."
   ]
  },
  {
   "cell_type": "markdown",
   "id": "edd6cff6-56ab-4180-b63e-0f0ffc0752c8",
   "metadata": {},
   "source": [
    "# In this notebook, Data Science Tools and Ecosystem are summarized.\n"
   ]
  },
  {
   "cell_type": "markdown",
   "id": "a7c560be-37c6-4d53-80c0-11f7865939e6",
   "metadata": {},
   "source": [
    "# **objectives**\n",
    "* Some of the popular languages that Data Scientists uses.\n",
    "* Some of the commonly used libraries used by Data Scientists include.\n",
    "* Data Science tools.\n",
    "* Evaluating arithmetic expressions in python"
   ]
  },
  {
   "cell_type": "markdown",
   "id": "79218ae1-f0c8-4373-844c-96122f779494",
   "metadata": {},
   "source": [
    "# Some of the popular languages that Data Scientists use are:\n"
   ]
  },
  {
   "cell_type": "markdown",
   "id": "0a3349ad-4940-4104-809b-8264d6be499e",
   "metadata": {},
   "source": [
    "# 1. Python.\n",
    "# 2. Julia.\n",
    "# 3. R.\n",
    "# 4. Scala.\n",
    "# 5. Java.\n",
    "# 6. Java Script."
   ]
  },
  {
   "cell_type": "markdown",
   "id": "0ca02fee-0a34-4c2d-a74f-374ab41a73a7",
   "metadata": {},
   "source": [
    "# Some of the commonly used libraries used by Data Scientists include:"
   ]
  },
  {
   "cell_type": "markdown",
   "id": "501fd95f-ce0d-4864-bf2a-8ae25a490ac5",
   "metadata": {},
   "source": [
    "# 1. TensorFlow.\n",
    "# 2. NumPy.\n",
    "# 3. SciPy.\n",
    "# 4. Pandas.\n",
    "# 5. Matplotlib.\n",
    "# 6. Keras.\n",
    "# 7. SciKit-Learn.\n",
    "# 8. PyTorch."
   ]
  },
  {
   "cell_type": "markdown",
   "id": "6983e4fc-1d33-47f5-a0ee-2fb979bfa2d8",
   "metadata": {},
   "source": [
    "|Data Science Tools|\n",
    " ------------------\n",
    " |Tenser Flow|\n",
    " |Apache Spark|\n",
    " |Knime|"
   ]
  },
  {
   "cell_type": "markdown",
   "id": "8488a29e-27cd-4b52-a9ca-d3a202e43d5e",
   "metadata": {},
   "source": [
    "### Below are a few examples of evaluating arithmetic expressions in Python."
   ]
  },
  {
   "cell_type": "markdown",
   "id": "a4a999a5-cb57-4e95-ab93-4735e7476d9b",
   "metadata": {},
   "source": [
    "#### This a simple arithmetic expression to mutiply then add integers."
   ]
  },
  {
   "cell_type": "code",
   "execution_count": 4,
   "id": "83a12c08-c266-4d42-b9a7-fca12c0392d3",
   "metadata": {
    "tags": []
   },
   "outputs": [
    {
     "data": {
      "text/plain": [
       "17"
      ]
     },
     "execution_count": 4,
     "metadata": {},
     "output_type": "execute_result"
    }
   ],
   "source": [
    "(3*4)+5"
   ]
  },
  {
   "cell_type": "markdown",
   "id": "39b7be8d-531b-463e-8938-76f23482670c",
   "metadata": {},
   "source": [
    "### This will convert 200 minutes to hours by diving by 60.\n"
   ]
  },
  {
   "cell_type": "code",
   "execution_count": 6,
   "id": "86955ea2-0c88-4fcd-9b55-a0e07ace59a2",
   "metadata": {
    "tags": []
   },
   "outputs": [
    {
     "data": {
      "text/plain": [
       "3.3333333333333335"
      ]
     },
     "execution_count": 6,
     "metadata": {},
     "output_type": "execute_result"
    }
   ],
   "source": [
    "200/60"
   ]
  },
  {
   "cell_type": "markdown",
   "id": "e0c2e405-b4d9-46ef-ac9c-46fc31b77fb0",
   "metadata": {},
   "source": []
  },
  {
   "cell_type": "markdown",
   "id": "2cf82200-2eb9-46d9-8ef5-6999d29b10d9",
   "metadata": {},
   "source": [
    "## Author:"
   ]
  },
  {
   "cell_type": "markdown",
   "id": "2c102cbb-13a7-4ae8-86f5-8f0da6a63e27",
   "metadata": {},
   "source": [
    "## C H Mallikarjun."
   ]
  },
  {
   "cell_type": "code",
   "execution_count": null,
   "id": "77c23262-7ed3-4684-a42c-0ea3f77c14d9",
   "metadata": {},
   "outputs": [],
   "source": []
  }
 ],
 "metadata": {
  "kernelspec": {
   "display_name": "Python",
   "language": "python",
   "name": "conda-env-python-py"
  },
  "language_info": {
   "codemirror_mode": {
    "name": "ipython",
    "version": 3
   },
   "file_extension": ".py",
   "mimetype": "text/x-python",
   "name": "python",
   "nbconvert_exporter": "python",
   "pygments_lexer": "ipython3",
   "version": "3.7.12"
  }
 },
 "nbformat": 4,
 "nbformat_minor": 5
}
